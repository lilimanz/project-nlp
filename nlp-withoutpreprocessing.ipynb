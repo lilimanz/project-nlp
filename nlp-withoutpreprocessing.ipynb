{
 "cells": [
  {
   "cell_type": "markdown",
   "metadata": {},
   "source": [
    "### Trying only tokenization and stop-words as a preprocess "
   ]
  },
  {
   "cell_type": "code",
   "execution_count": 1,
   "metadata": {},
   "outputs": [],
   "source": [
    "import pandas as pd \n",
    "import nltk\n",
    "import string\n",
    "from nltk.corpus import stopwords\n",
    "from nltk.tokenize import word_tokenize\n",
    "from sklearn.feature_extraction.text import TfidfVectorizer\n",
    "from sklearn.model_selection import train_test_split\n",
    "import unidecode\n",
    "import string\n",
    "from nltk.stem import WordNetLemmatizer\n",
    "from sklearn.feature_extraction.text import CountVectorizer\n",
    "\n",
    "from sklearn.feature_extraction.text import TfidfVectorizer\n",
    "from sklearn.model_selection import train_test_split\n",
    "from sklearn.linear_model import LogisticRegression\n",
    "from sklearn.feature_extraction.text import TfidfVectorizer, TfidfTransformer\n",
    "from sklearn.metrics import accuracy_score, classification_report\n",
    "from sklearn.ensemble import GradientBoostingClassifier\n",
    "import re"
   ]
  },
  {
   "cell_type": "code",
   "execution_count": 2,
   "metadata": {},
   "outputs": [
    {
     "data": {
      "text/html": [
       "<div>\n",
       "<style scoped>\n",
       "    .dataframe tbody tr th:only-of-type {\n",
       "        vertical-align: middle;\n",
       "    }\n",
       "\n",
       "    .dataframe tbody tr th {\n",
       "        vertical-align: top;\n",
       "    }\n",
       "\n",
       "    .dataframe thead th {\n",
       "        text-align: right;\n",
       "    }\n",
       "</style>\n",
       "<table border=\"1\" class=\"dataframe\">\n",
       "  <thead>\n",
       "    <tr style=\"text-align: right;\">\n",
       "      <th></th>\n",
       "      <th>sentence</th>\n",
       "      <th>label</th>\n",
       "    </tr>\n",
       "  </thead>\n",
       "  <tbody>\n",
       "    <tr>\n",
       "      <th>0</th>\n",
       "      <td>Cuando conocí a Janice en 2013 , una familia n...</td>\n",
       "      <td>1</td>\n",
       "    </tr>\n",
       "    <tr>\n",
       "      <th>1</th>\n",
       "      <td>Hwang habló en Sur de este año por Southwest M...</td>\n",
       "      <td>0</td>\n",
       "    </tr>\n",
       "    <tr>\n",
       "      <th>2</th>\n",
       "      <td>Usted podría pensar Katy Perry y Robert Pattin...</td>\n",
       "      <td>1</td>\n",
       "    </tr>\n",
       "    <tr>\n",
       "      <th>3</th>\n",
       "      <td>Cualquiera que haya volado los cielos del crea...</td>\n",
       "      <td>1</td>\n",
       "    </tr>\n",
       "    <tr>\n",
       "      <th>4</th>\n",
       "      <td>Bueno , este cantante tendrá un LARGO tiempo p...</td>\n",
       "      <td>1</td>\n",
       "    </tr>\n",
       "  </tbody>\n",
       "</table>\n",
       "</div>"
      ],
      "text/plain": [
       "                                            sentence  label\n",
       "0  Cuando conocí a Janice en 2013 , una familia n...      1\n",
       "1  Hwang habló en Sur de este año por Southwest M...      0\n",
       "2  Usted podría pensar Katy Perry y Robert Pattin...      1\n",
       "3  Cualquiera que haya volado los cielos del crea...      1\n",
       "4  Bueno , este cantante tendrá un LARGO tiempo p...      1"
      ]
     },
     "execution_count": 2,
     "metadata": {},
     "output_type": "execute_result"
    }
   ],
   "source": [
    "#loading the data\n",
    "# Load data from a text file\n",
    "def load_data(file_path):\n",
    "    data = []\n",
    "    with open(file_path, 'r', encoding='utf-8') as file:\n",
    "        for line in file:\n",
    "            label, sentence = line.strip().split('\\t', 1)  # Split on the first tab character\n",
    "            data.append([sentence, int(label)])\n",
    "    return pd.DataFrame(data, columns=['sentence', 'label'])\n",
    "\n",
    "# file_path\n",
    "file_path = 'TRAINING_DATA.txt'\n",
    "\n",
    "#assign the data into pandas DF\n",
    "data = load_data(file_path)\n",
    "\n",
    "data.head()"
   ]
  },
  {
   "cell_type": "code",
   "execution_count": 3,
   "metadata": {},
   "outputs": [],
   "source": [
    "#tokenizated and stop words but not removing any special characters \n",
    "def preprocess_text_ts(text):\n",
    "    words = word_tokenize(text)\n",
    "    # Remove stop words from the tokenized words\n",
    "    #words = [word for word in words if word not in stop_words]\n",
    "    # Join the words back into a single string with spaces-\n",
    "    return ' '.join(words)\n",
    "\n",
    "data['cleaned_sentences'] = data['sentence'].apply(preprocess_text_ts)"
   ]
  },
  {
   "cell_type": "code",
   "execution_count": 4,
   "metadata": {},
   "outputs": [
    {
     "data": {
      "text/html": [
       "<div>\n",
       "<style scoped>\n",
       "    .dataframe tbody tr th:only-of-type {\n",
       "        vertical-align: middle;\n",
       "    }\n",
       "\n",
       "    .dataframe tbody tr th {\n",
       "        vertical-align: top;\n",
       "    }\n",
       "\n",
       "    .dataframe thead th {\n",
       "        text-align: right;\n",
       "    }\n",
       "</style>\n",
       "<table border=\"1\" class=\"dataframe\">\n",
       "  <thead>\n",
       "    <tr style=\"text-align: right;\">\n",
       "      <th></th>\n",
       "      <th>sentence</th>\n",
       "      <th>label</th>\n",
       "      <th>cleaned_sentences</th>\n",
       "    </tr>\n",
       "  </thead>\n",
       "  <tbody>\n",
       "    <tr>\n",
       "      <th>0</th>\n",
       "      <td>Cuando conocí a Janice en 2013 , una familia n...</td>\n",
       "      <td>1</td>\n",
       "      <td>Cuando conocí a Janice en 2013 , una familia n...</td>\n",
       "    </tr>\n",
       "    <tr>\n",
       "      <th>1</th>\n",
       "      <td>Hwang habló en Sur de este año por Southwest M...</td>\n",
       "      <td>0</td>\n",
       "      <td>Hwang habló en Sur de este año por Southwest M...</td>\n",
       "    </tr>\n",
       "    <tr>\n",
       "      <th>2</th>\n",
       "      <td>Usted podría pensar Katy Perry y Robert Pattin...</td>\n",
       "      <td>1</td>\n",
       "      <td>Usted podría pensar Katy Perry y Robert Pattin...</td>\n",
       "    </tr>\n",
       "    <tr>\n",
       "      <th>3</th>\n",
       "      <td>Cualquiera que haya volado los cielos del crea...</td>\n",
       "      <td>1</td>\n",
       "      <td>Cualquiera que haya volado los cielos del crea...</td>\n",
       "    </tr>\n",
       "    <tr>\n",
       "      <th>4</th>\n",
       "      <td>Bueno , este cantante tendrá un LARGO tiempo p...</td>\n",
       "      <td>1</td>\n",
       "      <td>Bueno , este cantante tendrá un LARGO tiempo p...</td>\n",
       "    </tr>\n",
       "  </tbody>\n",
       "</table>\n",
       "</div>"
      ],
      "text/plain": [
       "                                            sentence  label  \\\n",
       "0  Cuando conocí a Janice en 2013 , una familia n...      1   \n",
       "1  Hwang habló en Sur de este año por Southwest M...      0   \n",
       "2  Usted podría pensar Katy Perry y Robert Pattin...      1   \n",
       "3  Cualquiera que haya volado los cielos del crea...      1   \n",
       "4  Bueno , este cantante tendrá un LARGO tiempo p...      1   \n",
       "\n",
       "                                   cleaned_sentences  \n",
       "0  Cuando conocí a Janice en 2013 , una familia n...  \n",
       "1  Hwang habló en Sur de este año por Southwest M...  \n",
       "2  Usted podría pensar Katy Perry y Robert Pattin...  \n",
       "3  Cualquiera que haya volado los cielos del crea...  \n",
       "4  Bueno , este cantante tendrá un LARGO tiempo p...  "
      ]
     },
     "execution_count": 4,
     "metadata": {},
     "output_type": "execute_result"
    }
   ],
   "source": [
    "data.head()"
   ]
  },
  {
   "cell_type": "code",
   "execution_count": 5,
   "metadata": {},
   "outputs": [
    {
     "name": "stdout",
     "output_type": "stream",
     "text": [
      "Accuracy: 0.5234899328859061\n",
      "              precision    recall  f1-score   support\n",
      "\n",
      "           0       0.51      0.80      0.62      1751\n",
      "           1       0.57      0.26      0.36      1825\n",
      "\n",
      "    accuracy                           0.52      3576\n",
      "   macro avg       0.54      0.53      0.49      3576\n",
      "weighted avg       0.54      0.52      0.49      3576\n",
      "\n"
     ]
    }
   ],
   "source": [
    "#unprocessed data \n",
    "def count_vectorize(data, text_column):\n",
    "    vectorizer = CountVectorizer()\n",
    "    X = vectorizer.fit_transform(data[text_column])\n",
    "    return X, vectorizer\n",
    "\n",
    "#gradient boost\n",
    "def gradient_boosting_classification_count(X, y):\n",
    "    # Train-Test Split\n",
    "    X_train, X_test, y_train, y_test = train_test_split(X, y, test_size=0.2, random_state=42)\n",
    "    \n",
    "    # Train the classifier\n",
    "    classifier = GradientBoostingClassifier(n_estimators=100, learning_rate=0.1, max_depth=3)\n",
    "    classifier.fit(X_train, y_train)\n",
    "    \n",
    "    # Make predictions\n",
    "    y_pred = classifier.predict(X_test)\n",
    "    \n",
    "    # Evaluate the classifier\n",
    "    accuracy = accuracy_score(y_test, y_pred)\n",
    "    report = classification_report(y_test, y_pred)\n",
    "    \n",
    "    return accuracy, report, classifier\n",
    "\n",
    "# Main function to tie everything together\n",
    "def main_gradient_boosting_count(data, text_column):\n",
    "    # Count Vectorization\n",
    "    X, vectorizer = count_vectorize(data, text_column)\n",
    "    y = data['label']\n",
    "    \n",
    "    # Classification\n",
    "    accuracy, report, classifier = gradient_boosting_classification_count(X, y)\n",
    "    \n",
    "    # Output results\n",
    "    print(f'Accuracy: {accuracy}')\n",
    "    print(report)\n",
    "    \n",
    "    return vectorizer, classifier \n",
    "\n",
    "# Call the main function with gradient boosting\n",
    "vectorizer, classifier = main_gradient_boosting_count(data, 'cleaned_sentences')"
   ]
  },
  {
   "cell_type": "markdown",
   "metadata": {},
   "source": [
    "### embeding nlp"
   ]
  },
  {
   "cell_type": "code",
   "execution_count": 8,
   "metadata": {},
   "outputs": [],
   "source": [
    "import transformers\n",
    "import torch\n"
   ]
  },
  {
   "cell_type": "code",
   "execution_count": 9,
   "metadata": {},
   "outputs": [],
   "source": [
    "from transformers import AutoTokenizer, AutoModel\n",
    "import torch"
   ]
  },
  {
   "cell_type": "markdown",
   "metadata": {},
   "source": [
    "### loading the data"
   ]
  },
  {
   "cell_type": "code",
   "execution_count": 10,
   "metadata": {},
   "outputs": [
    {
     "data": {
      "text/html": [
       "<div>\n",
       "<style scoped>\n",
       "    .dataframe tbody tr th:only-of-type {\n",
       "        vertical-align: middle;\n",
       "    }\n",
       "\n",
       "    .dataframe tbody tr th {\n",
       "        vertical-align: top;\n",
       "    }\n",
       "\n",
       "    .dataframe thead th {\n",
       "        text-align: right;\n",
       "    }\n",
       "</style>\n",
       "<table border=\"1\" class=\"dataframe\">\n",
       "  <thead>\n",
       "    <tr style=\"text-align: right;\">\n",
       "      <th></th>\n",
       "      <th>sentence</th>\n",
       "      <th>label</th>\n",
       "    </tr>\n",
       "  </thead>\n",
       "  <tbody>\n",
       "    <tr>\n",
       "      <th>0</th>\n",
       "      <td>Cuando conocí a Janice en 2013 , una familia n...</td>\n",
       "      <td>1</td>\n",
       "    </tr>\n",
       "    <tr>\n",
       "      <th>1</th>\n",
       "      <td>Hwang habló en Sur de este año por Southwest M...</td>\n",
       "      <td>0</td>\n",
       "    </tr>\n",
       "    <tr>\n",
       "      <th>2</th>\n",
       "      <td>Usted podría pensar Katy Perry y Robert Pattin...</td>\n",
       "      <td>1</td>\n",
       "    </tr>\n",
       "    <tr>\n",
       "      <th>3</th>\n",
       "      <td>Cualquiera que haya volado los cielos del crea...</td>\n",
       "      <td>1</td>\n",
       "    </tr>\n",
       "    <tr>\n",
       "      <th>4</th>\n",
       "      <td>Bueno , este cantante tendrá un LARGO tiempo p...</td>\n",
       "      <td>1</td>\n",
       "    </tr>\n",
       "  </tbody>\n",
       "</table>\n",
       "</div>"
      ],
      "text/plain": [
       "                                            sentence  label\n",
       "0  Cuando conocí a Janice en 2013 , una familia n...      1\n",
       "1  Hwang habló en Sur de este año por Southwest M...      0\n",
       "2  Usted podría pensar Katy Perry y Robert Pattin...      1\n",
       "3  Cualquiera que haya volado los cielos del crea...      1\n",
       "4  Bueno , este cantante tendrá un LARGO tiempo p...      1"
      ]
     },
     "execution_count": 10,
     "metadata": {},
     "output_type": "execute_result"
    }
   ],
   "source": [
    "#loading the data\n",
    "# Load data from a text file\n",
    "def load_data(file_path):\n",
    "    data = []\n",
    "    with open(file_path, 'r', encoding='utf-8') as file:\n",
    "        for line in file:\n",
    "            label, sentence = line.strip().split('\\t', 1)  # Split on the first tab character\n",
    "            data.append([sentence, int(label)])\n",
    "    return pd.DataFrame(data, columns=['sentence', 'label'])\n",
    "\n",
    "# file_path\n",
    "file_path = 'TRAINING_DATA.txt'\n",
    "\n",
    "#assign the data into pandas DF\n",
    "data_2 = load_data(file_path)\n",
    "\n",
    "data_2.head()"
   ]
  },
  {
   "cell_type": "markdown",
   "metadata": {},
   "source": [
    "### using embedding with a transformer model specialize in 'european spanish' and applying gradient boost to classify"
   ]
  },
  {
   "cell_type": "code",
   "execution_count": 18,
   "metadata": {},
   "outputs": [
    {
     "name": "stderr",
     "output_type": "stream",
     "text": [
      "Some weights of BertModel were not initialized from the model checkpoint at dccuchile/bert-base-spanish-wwm-uncased and are newly initialized: ['bert.pooler.dense.bias', 'bert.pooler.dense.weight']\n",
      "You should probably TRAIN this model on a down-stream task to be able to use it for predictions and inference.\n"
     ]
    },
    {
     "name": "stdout",
     "output_type": "stream",
     "text": [
      "Accuracy: 0.6560402684563759\n"
     ]
    }
   ],
   "source": [
    "import pandas as pd\n",
    "from transformers import AutoTokenizer, AutoModel\n",
    "import torch\n",
    "from sklearn.model_selection import train_test_split\n",
    "import numpy as np\n",
    "from sklearn.ensemble import GradientBoostingClassifier\n",
    "from sklearn.metrics import accuracy_score\n",
    "\n",
    "\n",
    "# Load pre-trained Spanish BETO model and tokenizer\n",
    "tokenizer = AutoTokenizer.from_pretrained('dccuchile/bert-base-spanish-wwm-uncased')\n",
    "model = AutoModel.from_pretrained('dccuchile/bert-base-spanish-wwm-uncased')\n",
    "\n",
    "def embed_text(text):\n",
    "    inputs = tokenizer(text, return_tensors='pt', truncation=True, padding=True, max_length=512)\n",
    "    with torch.no_grad():\n",
    "        outputs = model(**inputs)\n",
    "    # Get the embedding for the [CLS] token\n",
    "    embedding = outputs.last_hidden_state[0][0].numpy()\n",
    "    return embedding\n",
    "\n",
    "# Apply embedding to the 'sentences' column\n",
    "data_2['embedding'] = data_2['sentence'].apply(embed_text)\n",
    "\n",
    "# Split the data\n",
    "X = np.array(data_2['embedding'].tolist())\n",
    "y = data_2['label'].values\n",
    "\n",
    "X_train, X_test, y_train, y_test = train_test_split(X, y, test_size=0.2, random_state=42)\n",
    "\n",
    "# Initialize the classifier\n",
    "gbc = GradientBoostingClassifier(learning_rate=0.01, max_depth=3, max_features='log2', min_samples_leaf=1, min_samples_split=10, n_estimators=300, subsample=0.8)\n",
    "\n",
    "# Train the classifier\n",
    "gbc.fit(X_train, y_train)\n",
    "\n",
    "# Predict on the test set\n",
    "y_pred = gbc.predict(X_test)\n",
    "\n",
    "# Evaluate the classifier\n",
    "accuracy = accuracy_score(y_test, y_pred)\n",
    "print(f\"Accuracy: {accuracy}\")\n"
   ]
  },
  {
   "cell_type": "code",
   "execution_count": 24,
   "metadata": {},
   "outputs": [
    {
     "data": {
      "text/html": [
       "<div>\n",
       "<style scoped>\n",
       "    .dataframe tbody tr th:only-of-type {\n",
       "        vertical-align: middle;\n",
       "    }\n",
       "\n",
       "    .dataframe tbody tr th {\n",
       "        vertical-align: top;\n",
       "    }\n",
       "\n",
       "    .dataframe thead th {\n",
       "        text-align: right;\n",
       "    }\n",
       "</style>\n",
       "<table border=\"1\" class=\"dataframe\">\n",
       "  <thead>\n",
       "    <tr style=\"text-align: right;\">\n",
       "      <th></th>\n",
       "      <th>sentence</th>\n",
       "      <th>label</th>\n",
       "      <th>embedding</th>\n",
       "    </tr>\n",
       "  </thead>\n",
       "  <tbody>\n",
       "    <tr>\n",
       "      <th>0</th>\n",
       "      <td>Cuando conocí a Janice en 2013 , una familia n...</td>\n",
       "      <td>1</td>\n",
       "      <td>[0.33458072, -0.3897538, 0.62814, -1.117687, -...</td>\n",
       "    </tr>\n",
       "    <tr>\n",
       "      <th>1</th>\n",
       "      <td>Hwang habló en Sur de este año por Southwest M...</td>\n",
       "      <td>0</td>\n",
       "      <td>[-0.14207685, -1.3537523, 0.5760088, -0.273183...</td>\n",
       "    </tr>\n",
       "    <tr>\n",
       "      <th>2</th>\n",
       "      <td>Usted podría pensar Katy Perry y Robert Pattin...</td>\n",
       "      <td>1</td>\n",
       "      <td>[0.022925138, -0.25722462, 0.84821856, -0.8008...</td>\n",
       "    </tr>\n",
       "    <tr>\n",
       "      <th>3</th>\n",
       "      <td>Cualquiera que haya volado los cielos del crea...</td>\n",
       "      <td>1</td>\n",
       "      <td>[0.29091385, -0.24790317, 0.44416136, -0.45109...</td>\n",
       "    </tr>\n",
       "    <tr>\n",
       "      <th>4</th>\n",
       "      <td>Bueno , este cantante tendrá un LARGO tiempo p...</td>\n",
       "      <td>1</td>\n",
       "      <td>[0.17789678, 0.071010046, 0.5315788, -0.688166...</td>\n",
       "    </tr>\n",
       "  </tbody>\n",
       "</table>\n",
       "</div>"
      ],
      "text/plain": [
       "                                            sentence  label  \\\n",
       "0  Cuando conocí a Janice en 2013 , una familia n...      1   \n",
       "1  Hwang habló en Sur de este año por Southwest M...      0   \n",
       "2  Usted podría pensar Katy Perry y Robert Pattin...      1   \n",
       "3  Cualquiera que haya volado los cielos del crea...      1   \n",
       "4  Bueno , este cantante tendrá un LARGO tiempo p...      1   \n",
       "\n",
       "                                           embedding  \n",
       "0  [0.33458072, -0.3897538, 0.62814, -1.117687, -...  \n",
       "1  [-0.14207685, -1.3537523, 0.5760088, -0.273183...  \n",
       "2  [0.022925138, -0.25722462, 0.84821856, -0.8008...  \n",
       "3  [0.29091385, -0.24790317, 0.44416136, -0.45109...  \n",
       "4  [0.17789678, 0.071010046, 0.5315788, -0.688166...  "
      ]
     },
     "execution_count": 24,
     "metadata": {},
     "output_type": "execute_result"
    }
   ],
   "source": [
    "data_2.head()"
   ]
  },
  {
   "cell_type": "code",
   "execution_count": 30,
   "metadata": {},
   "outputs": [
    {
     "name": "stdout",
     "output_type": "stream",
     "text": [
      "Accuracy: 0.6560402684563759\n",
      "              precision    recall  f1-score   support\n",
      "\n",
      "           0       0.67      0.58      0.62      1751\n",
      "           1       0.64      0.73      0.68      1825\n",
      "\n",
      "    accuracy                           0.66      3576\n",
      "   macro avg       0.66      0.65      0.65      3576\n",
      "weighted avg       0.66      0.66      0.65      3576\n",
      "\n"
     ]
    }
   ],
   "source": [
    "print(f\"Accuracy: {accuracy}\")\n",
    "report = classification_report(y_test,y_pred)\n",
    "print(report)"
   ]
  },
  {
   "cell_type": "code",
   "execution_count": 15,
   "metadata": {},
   "outputs": [],
   "source": [
    "from sklearn.metrics import accuracy_score, classification_report, confusion_matrix\n",
    "import seaborn as sns\n",
    "import matplotlib.pyplot as plt"
   ]
  },
  {
   "cell_type": "code",
   "execution_count": 20,
   "metadata": {},
   "outputs": [
    {
     "data": {
      "image/png": "[encoded data removed]",
      "text/plain": [
       "<Figure size 1000x700 with 2 Axes>"
      ]
     },
     "metadata": {},
     "output_type": "display_data"
    }
   ],
   "source": [
    "# Generate the confusion matrix\n",
    "conf_matrix = confusion_matrix(y_test, y_pred)\n",
    "\n",
    "# Plot the confusion matrix\n",
    "\n",
    "plt.figure(figsize=(10, 7))\n",
    "sns.heatmap(conf_matrix, annot=True, fmt='d', cmap='Blues', xticklabels=np.unique(y), yticklabels=np.unique(y))\n",
    "plt.xlabel('Predicted')\n",
    "plt.ylabel('True')\n",
    "plt.title('Confusion Matrix')\n",
    "plt.show()"
   ]
  },
  {
   "cell_type": "markdown",
   "metadata": {},
   "source": [
    "## Real data"
   ]
  },
  {
   "cell_type": "code",
   "execution_count": 37,
   "metadata": {},
   "outputs": [
    {
     "data": {
      "text/html": [
       "<div>\n",
       "<style scoped>\n",
       "    .dataframe tbody tr th:only-of-type {\n",
       "        vertical-align: middle;\n",
       "    }\n",
       "\n",
       "    .dataframe tbody tr th {\n",
       "        vertical-align: top;\n",
       "    }\n",
       "\n",
       "    .dataframe thead th {\n",
       "        text-align: right;\n",
       "    }\n",
       "</style>\n",
       "<table border=\"1\" class=\"dataframe\">\n",
       "  <thead>\n",
       "    <tr style=\"text-align: right;\">\n",
       "      <th></th>\n",
       "      <th>label</th>\n",
       "      <th>sentence</th>\n",
       "    </tr>\n",
       "  </thead>\n",
       "  <tbody>\n",
       "    <tr>\n",
       "      <th>0</th>\n",
       "      <td>2</td>\n",
       "      <td>Yo no creo que a nadie le haya encantado un pe...</td>\n",
       "    </tr>\n",
       "    <tr>\n",
       "      <th>1</th>\n",
       "      <td>2</td>\n",
       "      <td>No va a resolver sus problemas de crédito o me...</td>\n",
       "    </tr>\n",
       "    <tr>\n",
       "      <th>2</th>\n",
       "      <td>2</td>\n",
       "      <td>Te encantará este !</td>\n",
       "    </tr>\n",
       "    <tr>\n",
       "      <th>3</th>\n",
       "      <td>2</td>\n",
       "      <td>Yo estaba a volar a un aeropuerto varias horas...</td>\n",
       "    </tr>\n",
       "    <tr>\n",
       "      <th>4</th>\n",
       "      <td>2</td>\n",
       "      <td>( Maid En Manhattan , The Wedding Planner , Je...</td>\n",
       "    </tr>\n",
       "  </tbody>\n",
       "</table>\n",
       "</div>"
      ],
      "text/plain": [
       "   label                                           sentence\n",
       "0      2  Yo no creo que a nadie le haya encantado un pe...\n",
       "1      2  No va a resolver sus problemas de crédito o me...\n",
       "2      2                                Te encantará este !\n",
       "3      2  Yo estaba a volar a un aeropuerto varias horas...\n",
       "4      2  ( Maid En Manhattan , The Wedding Planner , Je..."
      ]
     },
     "execution_count": 37,
     "metadata": {},
     "output_type": "execute_result"
    }
   ],
   "source": [
    "#loading real data\n",
    "\n",
    "def load_data(file_path):\n",
    "    data = []\n",
    "    with open(file_path, 'r', encoding='utf-8') as file:\n",
    "        for line in file:\n",
    "            try:\n",
    "                label, sentence = line.strip().split('\\t', 1)  # Split on the first tab character\n",
    "                label = int(label)  # Convert the label to an integer\n",
    "                data.append([label, sentence])\n",
    "            except ValueError:\n",
    "                print(f\"Skipping line: {line.strip()}\")\n",
    "    return pd.DataFrame(data, columns=['label', 'sentence'])\n",
    "\n",
    "# file_path\n",
    "file_path = 'REAL_DATA.txt'\n",
    "\n",
    "#assign the data into pandas DF\n",
    "real_data = load_data(file_path)\n",
    "\n",
    "real_data.head()"
   ]
  },
  {
   "cell_type": "code",
   "execution_count": 38,
   "metadata": {},
   "outputs": [
    {
     "name": "stdout",
     "output_type": "stream",
     "text": [
      "   label                                           sentence  \\\n",
      "0      2  Yo no creo que a nadie le haya encantado un pe...   \n",
      "1      2  No va a resolver sus problemas de crédito o me...   \n",
      "2      2                                Te encantará este !   \n",
      "3      2  Yo estaba a volar a un aeropuerto varias horas...   \n",
      "4      2  ( Maid En Manhattan , The Wedding Planner , Je...   \n",
      "\n",
      "                                           embedding  predicted_label  \n",
      "0  [0.7163741, -0.05274082, 0.020287186, 0.339568...                1  \n",
      "1  [-0.71393216, 0.13840875, 0.46272868, 0.050962...                0  \n",
      "2  [0.37122592, -0.1937015, 1.2330145, -0.3201490...                1  \n",
      "3  [-0.06619377, -0.80570436, -0.3356255, -1.4754...                0  \n",
      "4  [0.4022016, -0.52340543, 0.7620686, -0.6382859...                1  \n"
     ]
    }
   ],
   "source": [
    "# Function to embed text\n",
    "def embed_text(text):\n",
    "    inputs = tokenizer(text, return_tensors='pt', truncation=True, padding=True, max_length=512)\n",
    "    with torch.no_grad():\n",
    "        outputs = model(**inputs)\n",
    "    embedding = outputs.last_hidden_state[0][0].numpy()  # Get the embedding for the [CLS] token\n",
    "    return embedding\n",
    "\n",
    "# Apply embedding to the 'sentence' column\n",
    "real_data['embedding'] = real_data['sentence'].apply(embed_text)\n",
    "\n",
    "# Convert embeddings to numpy array\n",
    "X_real = np.array(real_data['embedding'].tolist())\n",
    "\n",
    "# Assuming 'gbc' is your trained model\n",
    "# Predict on real data\n",
    "y_real_pred = gbc.predict(X_real)\n",
    "\n",
    "# Add predictions to the dataframe\n",
    "real_data['predicted_label'] = y_real_pred\n",
    "\n",
    "# Print the first few rows to verify\n",
    "print(real_data.head())"
   ]
  },
  {
   "cell_type": "code",
   "execution_count": 39,
   "metadata": {},
   "outputs": [
    {
     "data": {
      "text/html": [
       "<div>\n",
       "<style scoped>\n",
       "    .dataframe tbody tr th:only-of-type {\n",
       "        vertical-align: middle;\n",
       "    }\n",
       "\n",
       "    .dataframe tbody tr th {\n",
       "        vertical-align: top;\n",
       "    }\n",
       "\n",
       "    .dataframe thead th {\n",
       "        text-align: right;\n",
       "    }\n",
       "</style>\n",
       "<table border=\"1\" class=\"dataframe\">\n",
       "  <thead>\n",
       "    <tr style=\"text-align: right;\">\n",
       "      <th></th>\n",
       "      <th>label</th>\n",
       "      <th>sentence</th>\n",
       "      <th>embedding</th>\n",
       "      <th>predicted_label</th>\n",
       "    </tr>\n",
       "  </thead>\n",
       "  <tbody>\n",
       "    <tr>\n",
       "      <th>0</th>\n",
       "      <td>2</td>\n",
       "      <td>Yo no creo que a nadie le haya encantado un pe...</td>\n",
       "      <td>[0.7163741, -0.05274082, 0.020287186, 0.339568...</td>\n",
       "      <td>1</td>\n",
       "    </tr>\n",
       "    <tr>\n",
       "      <th>1</th>\n",
       "      <td>2</td>\n",
       "      <td>No va a resolver sus problemas de crédito o me...</td>\n",
       "      <td>[-0.71393216, 0.13840875, 0.46272868, 0.050962...</td>\n",
       "      <td>0</td>\n",
       "    </tr>\n",
       "    <tr>\n",
       "      <th>2</th>\n",
       "      <td>2</td>\n",
       "      <td>Te encantará este !</td>\n",
       "      <td>[0.37122592, -0.1937015, 1.2330145, -0.3201490...</td>\n",
       "      <td>1</td>\n",
       "    </tr>\n",
       "    <tr>\n",
       "      <th>3</th>\n",
       "      <td>2</td>\n",
       "      <td>Yo estaba a volar a un aeropuerto varias horas...</td>\n",
       "      <td>[-0.06619377, -0.80570436, -0.3356255, -1.4754...</td>\n",
       "      <td>0</td>\n",
       "    </tr>\n",
       "    <tr>\n",
       "      <th>4</th>\n",
       "      <td>2</td>\n",
       "      <td>( Maid En Manhattan , The Wedding Planner , Je...</td>\n",
       "      <td>[0.4022016, -0.52340543, 0.7620686, -0.6382859...</td>\n",
       "      <td>1</td>\n",
       "    </tr>\n",
       "  </tbody>\n",
       "</table>\n",
       "</div>"
      ],
      "text/plain": [
       "   label                                           sentence  \\\n",
       "0      2  Yo no creo que a nadie le haya encantado un pe...   \n",
       "1      2  No va a resolver sus problemas de crédito o me...   \n",
       "2      2                                Te encantará este !   \n",
       "3      2  Yo estaba a volar a un aeropuerto varias horas...   \n",
       "4      2  ( Maid En Manhattan , The Wedding Planner , Je...   \n",
       "\n",
       "                                           embedding  predicted_label  \n",
       "0  [0.7163741, -0.05274082, 0.020287186, 0.339568...                1  \n",
       "1  [-0.71393216, 0.13840875, 0.46272868, 0.050962...                0  \n",
       "2  [0.37122592, -0.1937015, 1.2330145, -0.3201490...                1  \n",
       "3  [-0.06619377, -0.80570436, -0.3356255, -1.4754...                0  \n",
       "4  [0.4022016, -0.52340543, 0.7620686, -0.6382859...                1  "
      ]
     },
     "execution_count": 39,
     "metadata": {},
     "output_type": "execute_result"
    }
   ],
   "source": [
    "real_data.head()"
   ]
  },
  {
   "cell_type": "code",
   "execution_count": 40,
   "metadata": {},
   "outputs": [],
   "source": [
    "#dropping embeded column\n",
    "real_data = real_data.drop(columns=['embedding'], axis=1)\n"
   ]
  },
  {
   "cell_type": "code",
   "execution_count": 43,
   "metadata": {},
   "outputs": [],
   "source": [
    "real_data.insert(1, 'predicted_label', real_data.pop('predicted_label'))"
   ]
  },
  {
   "cell_type": "code",
   "execution_count": 45,
   "metadata": {},
   "outputs": [],
   "source": [
    "real_data = real_data.drop(columns=['label'], axis=1)"
   ]
  },
  {
   "cell_type": "code",
   "execution_count": 46,
   "metadata": {},
   "outputs": [
    {
     "data": {
      "text/html": [
       "<div>\n",
       "<style scoped>\n",
       "    .dataframe tbody tr th:only-of-type {\n",
       "        vertical-align: middle;\n",
       "    }\n",
       "\n",
       "    .dataframe tbody tr th {\n",
       "        vertical-align: top;\n",
       "    }\n",
       "\n",
       "    .dataframe thead th {\n",
       "        text-align: right;\n",
       "    }\n",
       "</style>\n",
       "<table border=\"1\" class=\"dataframe\">\n",
       "  <thead>\n",
       "    <tr style=\"text-align: right;\">\n",
       "      <th></th>\n",
       "      <th>predicted_label</th>\n",
       "      <th>sentence</th>\n",
       "    </tr>\n",
       "  </thead>\n",
       "  <tbody>\n",
       "    <tr>\n",
       "      <th>0</th>\n",
       "      <td>1</td>\n",
       "      <td>Yo no creo que a nadie le haya encantado un pe...</td>\n",
       "    </tr>\n",
       "    <tr>\n",
       "      <th>1</th>\n",
       "      <td>0</td>\n",
       "      <td>No va a resolver sus problemas de crédito o me...</td>\n",
       "    </tr>\n",
       "    <tr>\n",
       "      <th>2</th>\n",
       "      <td>1</td>\n",
       "      <td>Te encantará este !</td>\n",
       "    </tr>\n",
       "    <tr>\n",
       "      <th>3</th>\n",
       "      <td>0</td>\n",
       "      <td>Yo estaba a volar a un aeropuerto varias horas...</td>\n",
       "    </tr>\n",
       "    <tr>\n",
       "      <th>4</th>\n",
       "      <td>1</td>\n",
       "      <td>( Maid En Manhattan , The Wedding Planner , Je...</td>\n",
       "    </tr>\n",
       "  </tbody>\n",
       "</table>\n",
       "</div>"
      ],
      "text/plain": [
       "   predicted_label                                           sentence\n",
       "0                1  Yo no creo que a nadie le haya encantado un pe...\n",
       "1                0  No va a resolver sus problemas de crédito o me...\n",
       "2                1                                Te encantará este !\n",
       "3                0  Yo estaba a volar a un aeropuerto varias horas...\n",
       "4                1  ( Maid En Manhattan , The Wedding Planner , Je..."
      ]
     },
     "execution_count": 46,
     "metadata": {},
     "output_type": "execute_result"
    }
   ],
   "source": [
    "real_data.head()"
   ]
  },
  {
   "cell_type": "code",
   "execution_count": 47,
   "metadata": {},
   "outputs": [],
   "source": [
    "# Save DataFrame to a text file with tab-separated values\n",
    "real_data.to_csv('REAL_DATA.txt', sep='\\t', index=False, header=False)"
   ]
  }
 ],
 "metadata": {
  "kernelspec": {
   "display_name": "base",
   "language": "python",
   "name": "python3"
  },
  "language_info": {
   "codemirror_mode": {
    "name": "ipython",
    "version": 3
   },
   "file_extension": ".py",
   "mimetype": "text/x-python",
   "name": "python",
   "nbconvert_exporter": "python",
   "pygments_lexer": "ipython3",
   "version": "3.11.7"
  }
 },
 "nbformat": 4,
 "nbformat_minor": 2
}
